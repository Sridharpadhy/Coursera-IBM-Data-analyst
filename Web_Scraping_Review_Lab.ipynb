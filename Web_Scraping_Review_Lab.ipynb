{
  "cells": [
    {
      "cell_type": "markdown",
      "metadata": {
        "id": "view-in-github",
        "colab_type": "text"
      },
      "source": [
        "<a href=\"https://colab.research.google.com/github/Sridharpadhy/Coursera-IBM-Data-analyst/blob/main/Web_Scraping_Review_Lab.ipynb\" target=\"_parent\"><img src=\"https://colab.research.google.com/assets/colab-badge.svg\" alt=\"Open In Colab\"/></a>"
      ]
    },
    {
      "cell_type": "markdown",
      "metadata": {
        "id": "qu0gBhNmK7T2"
      },
      "source": [
        "<p style=\"text-align:center\">\n",
        "    <a href=\"https://skills.network/?utm_medium=Exinfluencer&utm_source=Exinfluencer&utm_content=000026UJ&utm_term=10006555&utm_id=NA-SkillsNetwork-Channel-SkillsNetworkCoursesIBMDA0321ENSkillsNetwork928-2022-01-01\" target=\"_blank\">\n",
        "    <img src=\"https://cf-courses-data.s3.us.cloud-object-storage.appdomain.cloud/assets/logos/SN_web_lightmode.png\" width=\"200\" alt=\"Skills Network Logo\"  />\n",
        "    </a>\n",
        "</p>\n"
      ]
    },
    {
      "cell_type": "markdown",
      "metadata": {
        "id": "oyWoKBwOK7T9"
      },
      "source": [
        "# **Web Scraping Lab**\n"
      ]
    },
    {
      "cell_type": "markdown",
      "metadata": {
        "id": "8ARKGWBYK7T-"
      },
      "source": [
        "Estimated time needed: **30** minutes\n"
      ]
    },
    {
      "cell_type": "markdown",
      "metadata": {
        "id": "rcMVfWXXK7T_"
      },
      "source": [
        "## Objectives\n"
      ]
    },
    {
      "cell_type": "markdown",
      "metadata": {
        "id": "5O75dJPlK7T_"
      },
      "source": [
        "After completing this lab you will be able to:\n"
      ]
    },
    {
      "cell_type": "markdown",
      "metadata": {
        "id": "ODs8RLSHK7UA"
      },
      "source": [
        "* Download a webpage using requests module\n",
        "* Scrape all links from a web page\n",
        "* Scrape all image urls from a web page\n",
        "* Scrape data from html tables\n"
      ]
    },
    {
      "cell_type": "markdown",
      "metadata": {
        "id": "oE-va5FKK7UB"
      },
      "source": [
        "## Scrape www.ibm.com\n"
      ]
    },
    {
      "cell_type": "markdown",
      "metadata": {
        "id": "uaiivRfmK7UB"
      },
      "source": [
        "Import the required modules and functions\n"
      ]
    },
    {
      "cell_type": "code",
      "execution_count": 4,
      "metadata": {
        "id": "5rXQ1z_yK7UC"
      },
      "outputs": [],
      "source": [
        "from bs4 import BeautifulSoup # this module helps in web scrapping.\n",
        "import requests  # this module helps us to download a web page"
      ]
    },
    {
      "cell_type": "markdown",
      "metadata": {
        "id": "siPkdAs0K7UE"
      },
      "source": [
        "Download the contents of the web page\n"
      ]
    },
    {
      "cell_type": "code",
      "execution_count": 5,
      "metadata": {
        "id": "2oFJ5J2GK7UE"
      },
      "outputs": [],
      "source": [
        "url = \"http://www.ibm.com\""
      ]
    },
    {
      "cell_type": "code",
      "execution_count": 6,
      "metadata": {
        "id": "3R4JVk28K7UF"
      },
      "outputs": [],
      "source": [
        "# get the contents of the webpage in text format and store in a variable called data\n",
        "data  = requests.get(url).text "
      ]
    },
    {
      "cell_type": "markdown",
      "metadata": {
        "id": "wD2U7_BUK7UF"
      },
      "source": [
        "Create a soup object using the class BeautifulSoup\n"
      ]
    },
    {
      "cell_type": "code",
      "execution_count": 7,
      "metadata": {
        "id": "yTtuPoBMK7UG"
      },
      "outputs": [],
      "source": [
        "soup = BeautifulSoup(data,\"html5lib\")  # create a soup object using the variable 'data'"
      ]
    },
    {
      "cell_type": "markdown",
      "metadata": {
        "id": "bXTf7FUvK7UG"
      },
      "source": [
        "Scrape all links\n"
      ]
    },
    {
      "cell_type": "code",
      "execution_count": 8,
      "metadata": {
        "colab": {
          "base_uri": "https://localhost:8080/"
        },
        "id": "ChIJmXgIK7UG",
        "outputId": "0e7109b5-6b88-4974-8d4b-6e19f5db228c"
      },
      "outputs": [
        {
          "output_type": "stream",
          "name": "stdout",
          "text": [
            "https://www.ibm.com/thought-leadership/institute-business-value/en-us/report/business-trends-2023\n",
            "https://newsroom.ibm.com/Drawing-Inspiration-from-Stories-in-Asia-Pacific-Training-1-Million-Women-and-Girls-in-the-Region\n",
            "https://www.ibm.com/automation\n",
            "https://www.ibm.com/products/business-analytics-enterprise\n",
            "https://www.ibm.com/consulting/\n",
            "https://www.ibm.com/data-fabric\n",
            "https://www.ibm.com/about/secure-your-business\n",
            "https://www.ibm.com/case-studies/alliance-to-end-plastic-waste/?lnk=sghpv18f1\n",
            "https://www.ibm.com/resources/the-data-differentiator\n",
            "https://www.ibm.com/it-infrastructure/us-en/resources/hybrid-multicloud-infrastructure-strategy?lnk=sghpv18f3\n",
            "https://www.ibm.com/reports/threat-intelligence/\n",
            "https://www.ibm.com/products/offers-and-discounts?lnk=hpv18t5\n",
            "https://www.ibm.com/cloud/free?lnk=STW_SG_HP_T1_BLK&psrc=NONE&pexp=DEF&lnk2=trial_Cloud\n",
            "https://www.ibm.com/qradar\n",
            "https://www.ibm.com/products/cloud-pak-for-data\n",
            "https://www.ibm.com/products/maas360\n",
            "https://www.ibm.com/products/watson-assistant\n",
            "https://www.ibm.com/flashsystem\n",
            "https://www.ibm.com/account/reg/us-en/signup?formid=urx-45706\n",
            "https://www.ibm.com/cloud/free\n",
            "https://developer.ibm.com/depmodels/cloud/?lnk=hpv18ct16\n",
            "https://developer.ibm.com/technologies/artificial-intelligence?lnk=hpv18ct19\n",
            "https://developer.ibm.com/?lnk=hpv18ct9\n",
            "https://www.ibm.com/docs/en?lnk=hpv18ct14\n",
            "https://www.redbooks.ibm.com/?lnk=ushpv18ct10\n",
            "https://www.ibm.com/mysupport/s/?language=en_US\n",
            "https://www.ibm.com/training/?lnk=hpv18ct15\n",
            "https://www.ibm.com/consulting/\n",
            "/hybrid-cloud\n",
            "/tw-en/watson\n",
            "/garage/garage-x\n",
            "/tw-en/storage\n",
            "https://www.ibm.com/thought-leadership/institute-business-value\n",
            "/tw-en/analytics\n",
            "https://www.ibm.com/security?\n",
            "/tw-en/financing\n",
            "/hybrid-cloud\n",
            "https://www.ibm.com/zero-trust\n",
            "/cloud/learn/public-cloud\n",
            "/tw-en/cloud/redhat\n",
            "/tw-en/watson\n",
            "https://www.ibm.com/quantum\n",
            "/cloud/learn/kubernetes\n",
            "/tw-en/products/spss-statistics\n",
            "https://www.ibm.com/blockchain?\n",
            "https://www.ibm.com/employment/\n",
            "https://www.ibm.com/case-studies/tetherfi/?lnk=sghpv18cs1\n",
            "https://www.ibm.com/case-studies/search?lnk=hpv18cs2\n",
            "#\n"
          ]
        }
      ],
      "source": [
        "for link in soup.find_all('a'):  # in html anchor/link is represented by the tag <a>\n",
        "    print(link.get('href'))"
      ]
    },
    {
      "cell_type": "markdown",
      "metadata": {
        "id": "Uy79D56oK7UH"
      },
      "source": [
        "Scrape  all images\n"
      ]
    },
    {
      "cell_type": "code",
      "execution_count": 9,
      "metadata": {
        "colab": {
          "base_uri": "https://localhost:8080/"
        },
        "id": "GaAqRFW0K7UH",
        "outputId": "dd050ebb-8bfe-472a-d917-c025e5f350e1"
      },
      "outputs": [
        {
          "output_type": "stream",
          "name": "stdout",
          "text": [
            "//1.cms.s81c.com/sites/default/files/2022-08-03/AIOPS.jpg\n",
            "//1.cms.s81c.com/sites/default/files/2022-11-11/20221017-business-analytics-enterprise-800x450_0.jpg\n",
            "//1.cms.s81c.com/sites/default/files/2022-08-03/Consulting_0_0.jpg\n",
            "//1.cms.s81c.com/sites/default/files/2022-08-04/2022031-ls-data-driven-mobile-720x360%20%283%29.jpg\n",
            "//1.cms.s81c.com/sites/default/files/2022-08-04/Secure.jpg\n",
            "//1.cms.s81c.com/sites/default/files/2022-08-05/AEPW%20image2.jpg\n",
            "//1.cms.s81c.com/sites/default/files/2022-08-05/20220620-26721%20digital-data-guide-differentiator-444x333_1.jpg\n",
            "//1.cms.s81c.com/sites/default/files/2022-08-05/Original-20220316-26479-Forrester-Modernize-444x320%20%281%29.jpg\n",
            "//1.cms.s81c.com/sites/default/files/2022-08-05/02baae8d-eb04-4ae7-8cab02853f251e43.jpg\n",
            "//1.cms.s81c.com/sites/default/files/2021-04-07/ibm-cloud-trial.png\n",
            "//1.cms.s81c.com/sites/default/files/2022-08-04/QRadar-on-Cloud-21400-700x420%20%281%29.png\n",
            "//1.cms.s81c.com/sites/default/files/2021-04-07/cloud-pak-for-data-trial.png\n",
            "//1.cms.s81c.com/sites/default/files/2022-08-05/10072019-t-bt-MaaS360-watson-23210-700x420_0.png\n",
            "//1.cms.s81c.com/sites/default/files/2021-04-15/watson-assistant-trial_0_0.png\n",
            "//1.cms.s81c.com/sites/default/files/2022-08-05/Flash-System-5000-trial-444x266.png\n",
            "//1.cms.s81c.com/sites/default/files/2022-08-05/cloud-pak-for-automation-trial-444x254-v2_1.png\n"
          ]
        }
      ],
      "source": [
        "for link in soup.find_all('img'):# in html image is represented by the tag <img>\n",
        "    print(link.get('src'))"
      ]
    },
    {
      "cell_type": "markdown",
      "metadata": {
        "id": "sJOwGYshK7UH"
      },
      "source": [
        "## Scrape data from html tables\n"
      ]
    },
    {
      "cell_type": "code",
      "execution_count": null,
      "metadata": {
        "id": "vhGDjbbCK7UI"
      },
      "outputs": [],
      "source": [
        "#The below url contains a html table with data about colors and color codes."
      ]
    },
    {
      "cell_type": "code",
      "execution_count": 10,
      "metadata": {
        "id": "oJfigvduK7UI"
      },
      "outputs": [],
      "source": [
        "url = \"https://cf-courses-data.s3.us.cloud-object-storage.appdomain.cloud/IBM-DA0321EN-SkillsNetwork/labs/datasets/HTMLColorCodes.html\""
      ]
    },
    {
      "cell_type": "markdown",
      "metadata": {
        "id": "cuS09t1UK7UI"
      },
      "source": [
        "Before proceeding to scrape a web site, you need to examine the contents, and the way data is organized on the website. Open the above url in your browser and check how many rows and columns are there in the color table.\n"
      ]
    },
    {
      "cell_type": "code",
      "execution_count": 11,
      "metadata": {
        "id": "-4utXy84K7UJ"
      },
      "outputs": [],
      "source": [
        "# get the contents of the webpage in text format and store in a variable called data\n",
        "data  = requests.get(url).text"
      ]
    },
    {
      "cell_type": "code",
      "execution_count": 12,
      "metadata": {
        "id": "8SnIh45qK7UJ"
      },
      "outputs": [],
      "source": [
        "soup = BeautifulSoup(data,\"html5lib\")"
      ]
    },
    {
      "cell_type": "code",
      "execution_count": 13,
      "metadata": {
        "id": "7bngcOdSK7UK"
      },
      "outputs": [],
      "source": [
        "#find a html table in the web page\n",
        "table = soup.find('table') # in html table is represented by the tag <table>"
      ]
    },
    {
      "cell_type": "code",
      "execution_count": 14,
      "metadata": {
        "colab": {
          "base_uri": "https://localhost:8080/"
        },
        "id": "WOqGNnozK7UK",
        "outputId": "c22ed759-1dcc-4e34-962a-3875832156b3"
      },
      "outputs": [
        {
          "output_type": "stream",
          "name": "stdout",
          "text": [
            "Color Name--->Hex Code#RRGGBB\n",
            "lightsalmon--->#FFA07A\n",
            "salmon--->#FA8072\n",
            "darksalmon--->#E9967A\n",
            "lightcoral--->#F08080\n",
            "coral--->#FF7F50\n",
            "tomato--->#FF6347\n",
            "orangered--->#FF4500\n",
            "gold--->#FFD700\n",
            "orange--->#FFA500\n",
            "darkorange--->#FF8C00\n",
            "lightyellow--->#FFFFE0\n",
            "lemonchiffon--->#FFFACD\n",
            "papayawhip--->#FFEFD5\n",
            "moccasin--->#FFE4B5\n",
            "peachpuff--->#FFDAB9\n",
            "palegoldenrod--->#EEE8AA\n",
            "khaki--->#F0E68C\n",
            "darkkhaki--->#BDB76B\n",
            "yellow--->#FFFF00\n",
            "lawngreen--->#7CFC00\n",
            "chartreuse--->#7FFF00\n",
            "limegreen--->#32CD32\n",
            "lime--->#00FF00\n",
            "forestgreen--->#228B22\n",
            "green--->#008000\n",
            "powderblue--->#B0E0E6\n",
            "lightblue--->#ADD8E6\n",
            "lightskyblue--->#87CEFA\n",
            "skyblue--->#87CEEB\n",
            "deepskyblue--->#00BFFF\n",
            "lightsteelblue--->#B0C4DE\n",
            "dodgerblue--->#1E90FF\n"
          ]
        }
      ],
      "source": [
        "#Get all rows from the table\n",
        "for row in table.find_all('tr'): # in html table row is represented by the tag <tr>\n",
        "    # Get all columns in each row.\n",
        "    cols = row.find_all('td') # in html a column is represented by the tag <td>\n",
        "    color_name = cols[2].getText() # store the value in column 3 as color_name\n",
        "    color_code = cols[3].getText() # store the value in column 4 as color_code\n",
        "    print(\"{}--->{}\".format(color_name,color_code))"
      ]
    },
    {
      "cell_type": "markdown",
      "metadata": {
        "id": "WDOjNZEAK7UK"
      },
      "source": [
        "## Authors\n"
      ]
    },
    {
      "cell_type": "markdown",
      "metadata": {
        "id": "VvkJil_CK7UK"
      },
      "source": [
        "Ramesh Sannareddy\n"
      ]
    },
    {
      "cell_type": "markdown",
      "metadata": {
        "id": "p5wkgQMGK7UL"
      },
      "source": [
        "### Other Contributors\n"
      ]
    },
    {
      "cell_type": "markdown",
      "metadata": {
        "id": "qTJiUw1YK7UL"
      },
      "source": [
        "Rav Ahuja\n"
      ]
    },
    {
      "cell_type": "markdown",
      "metadata": {
        "id": "G8MAC1KDK7UL"
      },
      "source": [
        "## Change Log\n"
      ]
    },
    {
      "cell_type": "markdown",
      "metadata": {
        "id": "uO_4toqNK7UM"
      },
      "source": [
        "|  Date (YYYY-MM-DD) |  Version | Changed By  |  Change Description |\n",
        "|---|---|---|---|\n",
        "| 2020-10-17  | 0.1  | Ramesh Sannareddy  |  Created initial version of the lab |\n"
      ]
    },
    {
      "cell_type": "markdown",
      "metadata": {
        "id": "jL84D6AIK7UM"
      },
      "source": [
        " Copyright &copy; 2020 IBM Corporation. This notebook and its source code are released under the terms of the [MIT License](https://cognitiveclass.ai/mit-license/?utm_medium=Exinfluencer&utm_source=Exinfluencer&utm_content=000026UJ&utm_term=10006555&utm_id=NA-SkillsNetwork-Channel-SkillsNetworkCoursesIBMDA0321ENSkillsNetwork928-2022-01-01).\n"
      ]
    }
  ],
  "metadata": {
    "kernelspec": {
      "display_name": "Python",
      "language": "python",
      "name": "conda-env-python-py"
    },
    "language_info": {
      "name": ""
    },
    "colab": {
      "provenance": [],
      "include_colab_link": true
    }
  },
  "nbformat": 4,
  "nbformat_minor": 0
}